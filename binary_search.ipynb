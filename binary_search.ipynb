{
 "cells": [
  {
   "cell_type": "code",
   "execution_count": 15,
   "metadata": {},
   "outputs": [],
   "source": [
    "\n",
    "## create binary search function\n",
    "def binary_search(sorted_list, value):\n",
    "    #starting low and high values to search between\n",
    "    low = 0\n",
    "    high = len(sorted_list) - 1\n",
    "    \n",
    "    #use while loop until value is found or list is completely search\n",
    "    while(low <= high):\n",
    "        #find middle index and value between low and high variables to search\n",
    "        mid = (low + high) // 2\n",
    "        guess = sorted_list[mid]\n",
    "        \n",
    "        #see if guess is correct\n",
    "        if (guess == value):\n",
    "            return \"index: {}\".format(mid)\n",
    "        #if not, update low if guess is lower than value\n",
    "        elif (guess < value):\n",
    "            low = mid + 1\n",
    "        #and update high if guess is too high\n",
    "        else:\n",
    "            high = mid - 1\n",
    "            \n",
    "    #value wasn't found in list\n",
    "    print(\"value not in list\")\n",
    "    return None"
   ]
  },
  {
   "cell_type": "code",
   "execution_count": 16,
   "metadata": {},
   "outputs": [],
   "source": [
    "# fill a test list with integers from 1 to 100\n",
    "test = []\n",
    "for i in range(100):\n",
    "    test.append(i + 1)"
   ]
  },
  {
   "cell_type": "code",
   "execution_count": 22,
   "metadata": {},
   "outputs": [
    {
     "name": "stdout",
     "output_type": "stream",
     "text": [
      "index: 62\n"
     ]
    }
   ],
   "source": [
    "answer = binary_search(test, 63) # test function\n",
    "print(answer)"
   ]
  },
  {
   "cell_type": "code",
   "execution_count": null,
   "metadata": {},
   "outputs": [],
   "source": []
  }
 ],
 "metadata": {
  "kernelspec": {
   "display_name": "Python 3",
   "language": "python",
   "name": "python3"
  },
  "language_info": {
   "codemirror_mode": {
    "name": "ipython",
    "version": 3
   },
   "file_extension": ".py",
   "mimetype": "text/x-python",
   "name": "python",
   "nbconvert_exporter": "python",
   "pygments_lexer": "ipython3",
   "version": "3.5.2"
  },
  "widgets": {
   "state": {},
   "version": "1.1.2"
  }
 },
 "nbformat": 4,
 "nbformat_minor": 2
}
